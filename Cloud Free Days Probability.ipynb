{
 "cells": [
  {
   "cell_type": "markdown",
   "metadata": {},
   "source": [
    "# Cloud Free Days Probability\n",
    "\n",
    "Given a probability P that a site has a cloud-free day, this program will determine the probability of getting N cloud-free days in a sample of M sampling dates."
   ]
  },
  {
   "cell_type": "code",
   "execution_count": 1,
   "metadata": {
    "collapsed": true
   },
   "outputs": [],
   "source": [
    "import numpy as np"
   ]
  },
  {
   "cell_type": "code",
   "execution_count": 2,
   "metadata": {},
   "outputs": [
    {
     "name": "stdout",
     "output_type": "stream",
     "text": [
      "[124  93  95 101  97 109 115  98 112 106]\n"
     ]
    }
   ],
   "source": [
    "p = 0.1\n",
    "m = 1000\n",
    "nTrials = 10\n",
    "s = np.random.binomial( m, p, nTrials)\n",
    "print s"
   ]
  },
  {
   "cell_type": "code",
   "execution_count": 3,
   "metadata": {},
   "outputs": [
    {
     "name": "stdout",
     "output_type": "stream",
     "text": [
      "6 10\n"
     ]
    }
   ],
   "source": [
    "p = 0.5\n",
    "m = 10\n",
    "n = 5\n",
    "s = np.random.binomial( m, p, nTrials)\n",
    "buf = np.where( s >= n)\n",
    "nGood = len(buf[0])\n",
    "print nGood, nTrials"
   ]
  },
  {
   "cell_type": "markdown",
   "metadata": {},
   "source": [
    "## Analytic Approach\n",
    "\n",
    "From John Musinksy: If P represents the percent of days with 0-10% cloud cover (>90% cloud-fee) over a given time period, and N the minimum number of flight days required to cover the site, then the formula is (1/P) x N, rounded up."
   ]
  },
  {
   "cell_type": "code",
   "execution_count": 4,
   "metadata": {},
   "outputs": [
    {
     "name": "stdout",
     "output_type": "stream",
     "text": [
      "Number of flight days required to get n good survey days given likelihood p of clear weather\n",
      "\n",
      "p \tn=1 \tn=2 \tn=3 \tn=4 \tn=5 \tn=6 \tn=7 \tn=8 \tn=9\n",
      "0.05 \t20.0 \t40.0 \t60.0 \t80.0 \t100.0 \t120.0 \t140.0 \t160.0 \t180.0\n",
      "0.10 \t10.0 \t20.0 \t30.0 \t40.0 \t50.0 \t60.0 \t70.0 \t80.0 \t90.0\n",
      "0.15 \t6.7 \t13.3 \t20.0 \t26.7 \t33.3 \t40.0 \t46.7 \t53.3 \t60.0\n",
      "0.20 \t5.0 \t10.0 \t15.0 \t20.0 \t25.0 \t30.0 \t35.0 \t40.0 \t45.0\n",
      "0.25 \t4.0 \t8.0 \t12.0 \t16.0 \t20.0 \t24.0 \t28.0 \t32.0 \t36.0\n",
      "0.30 \t3.3 \t6.7 \t10.0 \t13.3 \t16.7 \t20.0 \t23.3 \t26.7 \t30.0\n",
      "0.35 \t2.9 \t5.7 \t8.6 \t11.4 \t14.3 \t17.1 \t20.0 \t22.9 \t25.7\n",
      "0.40 \t2.5 \t5.0 \t7.5 \t10.0 \t12.5 \t15.0 \t17.5 \t20.0 \t22.5\n",
      "0.45 \t2.2 \t4.4 \t6.7 \t8.9 \t11.1 \t13.3 \t15.6 \t17.8 \t20.0\n",
      "0.50 \t2.0 \t4.0 \t6.0 \t8.0 \t10.0 \t12.0 \t14.0 \t16.0 \t18.0\n",
      "0.55 \t1.8 \t3.6 \t5.5 \t7.3 \t9.1 \t10.9 \t12.7 \t14.5 \t16.4\n",
      "0.60 \t1.7 \t3.3 \t5.0 \t6.7 \t8.3 \t10.0 \t11.7 \t13.3 \t15.0\n",
      "0.65 \t1.5 \t3.1 \t4.6 \t6.2 \t7.7 \t9.2 \t10.8 \t12.3 \t13.8\n",
      "0.70 \t1.4 \t2.9 \t4.3 \t5.7 \t7.1 \t8.6 \t10.0 \t11.4 \t12.9\n",
      "0.75 \t1.3 \t2.7 \t4.0 \t5.3 \t6.7 \t8.0 \t9.3 \t10.7 \t12.0\n",
      "0.80 \t1.2 \t2.5 \t3.8 \t5.0 \t6.2 \t7.5 \t8.8 \t10.0 \t11.2\n",
      "0.85 \t1.2 \t2.4 \t3.5 \t4.7 \t5.9 \t7.1 \t8.2 \t9.4 \t10.6\n",
      "0.90 \t1.1 \t2.2 \t3.3 \t4.4 \t5.6 \t6.7 \t7.8 \t8.9 \t10.0\n",
      "0.95 \t1.1 \t2.1 \t3.2 \t4.2 \t5.3 \t6.3 \t7.4 \t8.4 \t9.5\n",
      "1.00 \t1.0 \t2.0 \t3.0 \t4.0 \t5.0 \t6.0 \t7.0 \t8.0 \t9.0\n"
     ]
    }
   ],
   "source": [
    "print \"Number of flight days required to get n good survey days given likelihood p of clear weather\\n\"\n",
    "\n",
    "print \"p\",\n",
    "for n in range( 1, 10):\n",
    "    print \"\\tn=%d\" % n,\n",
    "print\n",
    "    \n",
    "for p in np.arange(0.05, 1.01, 0.05):\n",
    "    print \"%.2f\" % p,\n",
    "    for n in range( 1, 10):\n",
    "        m = (1./p) * n\n",
    "        print \"\\t%.1f\" % m,\n",
    "    print"
   ]
  },
  {
   "cell_type": "markdown",
   "metadata": {},
   "source": [
    "## Simulation Approach"
   ]
  },
  {
   "cell_type": "code",
   "execution_count": 5,
   "metadata": {
    "collapsed": true
   },
   "outputs": [],
   "source": [
    "def probCloudFree( p, n, m, nTrials=10000):\n",
    "    '''\n",
    "    Given a probability P that a site has a cloud-free day, \n",
    "    this program will determine the probability of getting \n",
    "    N cloud-free days in a sample of M sampling dates.\n",
    "    '''\n",
    "    \n",
    "    # generate trials...\n",
    "    s = np.random.binomial( m, p, nTrials)\n",
    "    \n",
    "    # count the fraction that achieve at least n clear days...\n",
    "    buf = np.where( s >= n)\n",
    "    nGood = len(buf[0])\n",
    "    \n",
    "    goodFraction = float(nGood) / float(nTrials)\n",
    "    return goodFraction    "
   ]
  },
  {
   "cell_type": "code",
   "execution_count": 6,
   "metadata": {},
   "outputs": [
    {
     "name": "stdout",
     "output_type": "stream",
     "text": [
      "Probability of getting 2 clear days in a sample of m given likelihood p of clear weather\n",
      "\n",
      "p \tm=1 \tm=2 \tm=3 \tm=4 \tm=5 \tm=6 \tm=7 \tm=8 \tm=9\n",
      "0.00 \t0.00 \t0.00 \t0.00 \t0.00 \t0.00 \t0.00 \t0.00 \t0.00 \t0.00\n",
      "0.05 \t0.00 \t0.00 \t0.01 \t0.01 \t0.02 \t0.04 \t0.05 \t0.06 \t0.07\n",
      "0.10 \t0.00 \t0.01 \t0.03 \t0.05 \t0.09 \t0.11 \t0.15 \t0.18 \t0.23\n",
      "0.15 \t0.00 \t0.02 \t0.06 \t0.11 \t0.16 \t0.23 \t0.28 \t0.35 \t0.41\n",
      "0.20 \t0.00 \t0.04 \t0.10 \t0.18 \t0.26 \t0.35 \t0.41 \t0.49 \t0.57\n",
      "0.25 \t0.00 \t0.06 \t0.16 \t0.26 \t0.37 \t0.46 \t0.56 \t0.64 \t0.69\n",
      "0.30 \t0.00 \t0.09 \t0.21 \t0.35 \t0.47 \t0.58 \t0.67 \t0.74 \t0.80\n",
      "0.35 \t0.00 \t0.12 \t0.28 \t0.43 \t0.58 \t0.69 \t0.76 \t0.84 \t0.88\n",
      "0.40 \t0.00 \t0.16 \t0.35 \t0.52 \t0.67 \t0.76 \t0.84 \t0.89 \t0.93\n",
      "0.45 \t0.00 \t0.21 \t0.43 \t0.61 \t0.74 \t0.84 \t0.90 \t0.94 \t0.96\n",
      "0.50 \t0.00 \t0.26 \t0.49 \t0.68 \t0.81 \t0.89 \t0.94 \t0.97 \t0.98\n",
      "0.55 \t0.00 \t0.30 \t0.57 \t0.76 \t0.87 \t0.93 \t0.96 \t0.98 \t0.99\n",
      "0.60 \t0.00 \t0.37 \t0.64 \t0.82 \t0.92 \t0.96 \t0.98 \t0.99 \t1.00\n",
      "0.65 \t0.00 \t0.42 \t0.72 \t0.87 \t0.95 \t0.98 \t0.99 \t1.00 \t1.00\n",
      "0.70 \t0.00 \t0.50 \t0.79 \t0.92 \t0.97 \t0.99 \t1.00 \t1.00 \t1.00\n",
      "0.75 \t0.00 \t0.57 \t0.84 \t0.95 \t0.98 \t1.00 \t1.00 \t1.00 \t1.00\n",
      "0.80 \t0.00 \t0.64 \t0.90 \t0.97 \t0.99 \t1.00 \t1.00 \t1.00 \t1.00\n",
      "0.85 \t0.00 \t0.72 \t0.94 \t0.99 \t1.00 \t1.00 \t1.00 \t1.00 \t1.00\n",
      "0.90 \t0.00 \t0.81 \t0.97 \t1.00 \t1.00 \t1.00 \t1.00 \t1.00 \t1.00\n",
      "0.95 \t0.00 \t0.91 \t0.99 \t1.00 \t1.00 \t1.00 \t1.00 \t1.00 \t1.00\n"
     ]
    }
   ],
   "source": [
    "n = 2\n",
    "print \"Probability of getting %d clear days in a sample of m given likelihood p of clear weather\\n\" % n\n",
    "\n",
    "print \"p\",\n",
    "for m in range( 1, 10):\n",
    "    print \"\\tm=%d\" % m,\n",
    "print\n",
    "    \n",
    "for p in np.arange(0.0, 1.0, 0.05):\n",
    "    print \"%.2f\" % p,\n",
    "    for m in range( 1, 10):\n",
    "        f = probCloudFree( p, n, m)\n",
    "        print \"\\t%.2f\" % f,\n",
    "    print"
   ]
  },
  {
   "cell_type": "code",
   "execution_count": 7,
   "metadata": {
    "collapsed": true
   },
   "outputs": [],
   "source": [
    "def minDays( p, n, c):\n",
    "    '''\n",
    "    Given a probability P that a site has a cloud-free day,\n",
    "    a number n of clear days to survey the site,\n",
    "    and a confidence level c that we will get that number of \n",
    "    clear days, this routine will return m, the number of days \n",
    "    we need to fly AOP at the site.\n",
    "    '''\n",
    "    \n",
    "    mMax = 100\n",
    "    for m in range(mMax):\n",
    "        f = probCloudFree( p, n, m)\n",
    "        if f > c:\n",
    "            return m\n",
    "    \n",
    "    # if we got here, no solution...\n",
    "    return None"
   ]
  },
  {
   "cell_type": "markdown",
   "metadata": {},
   "source": [
    "### Case 1: 50% confidence"
   ]
  },
  {
   "cell_type": "code",
   "execution_count": 8,
   "metadata": {},
   "outputs": [
    {
     "name": "stdout",
     "output_type": "stream",
     "text": [
      "Number of flight days required to have a 50% chance that we get \n",
      "n good survey days given likelihood p of clear weather\n",
      "\n",
      "p \tn=1 \tn=2 \tn=3 \tn=4 \tn=5 \tn=6 \tn=7 \tn=8 \tn=9\n",
      "0.05 \t14 \t34 \t54 \t74 \t94 \tNone \tNone \tNone \tNone\n",
      "0.10 \t7 \t17 \t27 \t37 \t47 \t57 \t67 \t77 \t87\n",
      "0.15 \t5 \t11 \t18 \t25 \t31 \t38 \t45 \t51 \t58\n",
      "0.20 \t4 \t8 \t13 \t19 \t23 \t29 \t33 \t38 \t44\n",
      "0.25 \t3 \t7 \t11 \t15 \t19 \t23 \t27 \t31 \t35\n",
      "0.30 \t2 \t6 \t9 \t12 \t16 \t19 \t22 \t26 \t29\n",
      "0.35 \t2 \t5 \t8 \t11 \t14 \t16 \t19 \t22 \t25\n",
      "0.40 \t2 \t4 \t7 \t9 \t12 \t14 \t17 \t19 \t22\n",
      "0.45 \t2 \t4 \t6 \t8 \t11 \t13 \t15 \t17 \t19\n",
      "0.50 \t1 \t4 \t6 \t8 \t10 \t12 \t13 \t16 \t17\n",
      "0.55 \t1 \t3 \t5 \t7 \t9 \t10 \t12 \t14 \t16\n",
      "0.60 \t1 \t3 \t5 \t6 \t8 \t10 \t11 \t13 \t15\n",
      "0.65 \t1 \t3 \t4 \t6 \t7 \t9 \t10 \t12 \t14\n",
      "0.70 \t1 \t3 \t4 \t5 \t7 \t8 \t10 \t11 \t13\n",
      "0.75 \t1 \t2 \t4 \t5 \t6 \t8 \t9 \t10 \t12\n",
      "0.80 \t1 \t2 \t3 \t5 \t6 \t7 \t9 \t10 \t11\n",
      "0.85 \t1 \t2 \t3 \t4 \t6 \t7 \t8 \t9 \t10\n",
      "0.90 \t1 \t2 \t3 \t4 \t5 \t6 \t8 \t9 \t10\n",
      "0.95 \t1 \t2 \t3 \t4 \t5 \t6 \t7 \t8 \t9\n",
      "1.00 \t1 \t2 \t3 \t4 \t5 \t6 \t7 \t8 \t9\n"
     ]
    }
   ],
   "source": [
    "c = 0.5\n",
    "c100 = c * 100.\n",
    "print \"Number of flight days required to have a %d%% chance that we get \\nn good survey days given likelihood p of clear weather\\n\" % c100\n",
    "\n",
    "print \"p\",\n",
    "for n in range( 1, 10):\n",
    "    print \"\\tn=%d\" % n,\n",
    "print\n",
    "    \n",
    "for p in np.arange(0.05, 1.01, 0.05):\n",
    "    print \"%.2f\" % p,\n",
    "    for n in range( 1, 10):\n",
    "        m = minDays( p, n, c)\n",
    "        print \"\\t\", m,\n",
    "    print"
   ]
  },
  {
   "cell_type": "markdown",
   "metadata": {},
   "source": [
    "### Case 2: 62.5% confidence"
   ]
  },
  {
   "cell_type": "code",
   "execution_count": 9,
   "metadata": {},
   "outputs": [
    {
     "name": "stdout",
     "output_type": "stream",
     "text": [
      "Number of flight days required to have a 62% chance that we get \n",
      "n good survey days given likelihood p of clear weather\n",
      "\n",
      "p \tn=1 \tn=2 \tn=3 \tn=4 \tn=5 \tn=6 \tn=7 \tn=8 \tn=9\n",
      "0.05 \t19 \t43 \t64 \t86 \tNone \tNone \tNone \tNone \tNone\n",
      "0.10 \t10 \t21 \t32 \t43 \t54 \t65 \t76 \t85 \t96\n",
      "0.15 \t7 \t14 \t21 \t29 \t36 \t43 \t50 \t57 \t64\n",
      "0.20 \t5 \t11 \t16 \t21 \t27 \t32 \t37 \t42 \t48\n",
      "0.25 \t4 \t8 \t13 \t17 \t21 \t26 \t30 \t34 \t38\n",
      "0.30 \t3 \t7 \t11 \t14 \t18 \t21 \t25 \t28 \t32\n",
      "0.35 \t3 \t6 \t9 \t12 \t15 \t18 \t21 \t24 \t27\n",
      "0.40 \t2 \t5 \t8 \t11 \t13 \t16 \t18 \t21 \t24\n",
      "0.45 \t2 \t5 \t7 \t9 \t12 \t14 \t16 \t19 \t21\n",
      "0.50 \t2 \t4 \t6 \t8 \t10 \t13 \t15 \t17 \t19\n",
      "0.55 \t2 \t4 \t6 \t8 \t10 \t11 \t13 \t15 \t17\n",
      "0.60 \t2 \t3 \t5 \t7 \t9 \t10 \t12 \t14 \t16\n",
      "0.65 \t1 \t3 \t5 \t6 \t8 \t10 \t11 \t13 \t14\n",
      "0.70 \t1 \t3 \t4 \t6 \t7 \t9 \t10 \t12 \t13\n",
      "0.75 \t1 \t3 \t4 \t5 \t7 \t8 \t10 \t11 \t12\n",
      "0.80 \t1 \t2 \t4 \t5 \t6 \t8 \t9 \t10 \t12\n",
      "0.85 \t1 \t2 \t4 \t5 \t6 \t7 \t8 \t10 \t11\n",
      "0.90 \t1 \t2 \t3 \t4 \t6 \t7 \t8 \t9 \t10\n",
      "0.95 \t1 \t2 \t3 \t4 \t5 \t6 \t7 \t8 \t9\n",
      "1.00 \t1 \t2 \t3 \t4 \t5 \t6 \t7 \t8 \t9\n"
     ]
    }
   ],
   "source": [
    "c = 0.625\n",
    "c100 = c * 100.\n",
    "print \"Number of flight days required to have a %d%% chance that we get \\nn good survey days given likelihood p of clear weather\\n\" % c100\n",
    "\n",
    "print \"p\",\n",
    "for n in range( 1, 10):\n",
    "    print \"\\tn=%d\" % n,\n",
    "print\n",
    "    \n",
    "for p in np.arange(0.05, 1.01, 0.05):\n",
    "    print \"%.2f\" % p,\n",
    "    for n in range( 1, 10):\n",
    "        m = minDays( p, n, c)\n",
    "        print \"\\t\", m,\n",
    "    print"
   ]
  },
  {
   "cell_type": "markdown",
   "metadata": {},
   "source": [
    "### Case 3: 75% confidence"
   ]
  },
  {
   "cell_type": "code",
   "execution_count": 10,
   "metadata": {},
   "outputs": [
    {
     "name": "stdout",
     "output_type": "stream",
     "text": [
      "Number of flight days required to have a 75% chance that we get \n",
      "n good survey days given likelihood p of clear weather\n",
      "\n",
      "p \tn=1 \tn=2 \tn=3 \tn=4 \tn=5 \tn=6 \tn=7 \tn=8 \tn=9\n",
      "0.05 \t28 \t53 \t78 \tNone \tNone \tNone \tNone \tNone \tNone\n",
      "0.10 \t14 \t27 \t39 \t50 \t62 \t73 \t85 \t96 \tNone\n",
      "0.15 \t9 \t17 \t25 \t34 \t41 \t49 \t57 \t64 \t71\n",
      "0.20 \t7 \t13 \t19 \t25 \t31 \t36 \t42 \t48 \t53\n",
      "0.25 \t5 \t10 \t15 \t20 \t25 \t29 \t33 \t38 \t42\n",
      "0.30 \t4 \t9 \t13 \t16 \t20 \t24 \t28 \t31 \t35\n",
      "0.35 \t4 \t7 \t11 \t14 \t17 \t20 \t24 \t27 \t30\n",
      "0.40 \t3 \t6 \t9 \t12 \t15 \t18 \t20 \t23 \t26\n",
      "0.45 \t3 \t6 \t8 \t11 \t13 \t16 \t18 \t21 \t23\n",
      "0.50 \t2 \t5 \t7 \t10 \t12 \t14 \t16 \t18 \t20\n",
      "0.55 \t2 \t4 \t7 \t9 \t11 \t13 \t15 \t17 \t19\n",
      "0.60 \t2 \t4 \t6 \t8 \t10 \t12 \t13 \t15 \t17\n",
      "0.65 \t2 \t4 \t5 \t7 \t9 \t10 \t12 \t14 \t15\n",
      "0.70 \t2 \t3 \t5 \t7 \t8 \t10 \t11 \t13 \t14\n",
      "0.75 \t1 \t3 \t5 \t6 \t7 \t9 \t10 \t12 \t13\n",
      "0.80 \t1 \t3 \t4 \t6 \t7 \t8 \t10 \t11 \t12\n",
      "0.85 \t1 \t3 \t4 \t5 \t6 \t8 \t9 \t10 \t11\n",
      "0.90 \t1 \t2 \t4 \t5 \t6 \t7 \t8 \t9 \t11\n",
      "0.95 \t1 \t2 \t3 \t4 \t5 \t7 \t8 \t9 \t10\n",
      "1.00 \t1 \t2 \t3 \t4 \t5 \t6 \t7 \t8 \t9\n"
     ]
    }
   ],
   "source": [
    "c = 0.75\n",
    "c100 = c * 100.\n",
    "print \"Number of flight days required to have a %d%% chance that we get \\nn good survey days given likelihood p of clear weather\\n\" % c100\n",
    "\n",
    "print \"p\",\n",
    "for n in range( 1, 10):\n",
    "    print \"\\tn=%d\" % n,\n",
    "print\n",
    "    \n",
    "for p in np.arange(0.05, 1.01, 0.05):\n",
    "    print \"%.2f\" % p,\n",
    "    for n in range( 1, 10):\n",
    "        m = minDays( p, n, c)\n",
    "        print \"\\t\", m,\n",
    "    print"
   ]
  },
  {
   "cell_type": "markdown",
   "metadata": {},
   "source": [
    "### Case 4: 80% confidence"
   ]
  },
  {
   "cell_type": "code",
   "execution_count": 14,
   "metadata": {},
   "outputs": [
    {
     "name": "stdout",
     "output_type": "stream",
     "text": [
      "Number of flight days required to have a 80% chance that we get \n",
      "n good survey days given likelihood p of clear weather\n",
      "\n",
      "p \tn=1 \tn=2 \tn=3 \tn=4 \tn=5 \tn=6 \tn=7 \tn=8 \tn=9\n",
      "0.05 \t31 \t59 \t85 \tNone \tNone \tNone \tNone \tNone \tNone\n",
      "0.10 \t16 \t29 \t42 \t54 \t66 \t79 \t89 \tNone \tNone\n",
      "0.15 \t10 \t19 \t28 \t36 \t44 \t52 \t60 \t67 \t74\n",
      "0.20 \t8 \t14 \t21 \t27 \t33 \t39 \t44 \t50 \t56\n",
      "0.25 \t6 \t11 \t17 \t21 \t26 \t31 \t35 \t40 \t44\n",
      "0.30 \t5 \t9 \t14 \t18 \t22 \t25 \t29 \t33 \t37\n",
      "0.35 \t4 \t8 \t12 \t15 \t18 \t21 \t25 \t28 \t31\n",
      "0.40 \t4 \t7 \t10 \t13 \t16 \t19 \t22 \t24 \t27\n",
      "0.45 \t3 \t6 \t9 \t11 \t14 \t16 \t19 \t22 \t24\n",
      "0.50 \t3 \t5 \t8 \t10 \t12 \t15 \t17 \t19 \t21\n",
      "0.55 \t3 \t5 \t7 \t9 \t11 \t13 \t15 \t17 \t19\n",
      "0.60 \t2 \t4 \t6 \t8 \t10 \t12 \t14 \t16 \t18\n",
      "0.65 \t2 \t4 \t6 \t8 \t9 \t11 \t13 \t14 \t16\n",
      "0.70 \t2 \t4 \t5 \t7 \t8 \t10 \t12 \t13 \t15\n",
      "0.75 \t2 \t3 \t5 \t6 \t8 \t9 \t11 \t12 \t14\n",
      "0.80 \t1 \t3 \t4 \t6 \t7 \t9 \t10 \t11 \t13\n",
      "0.85 \t1 \t3 \t4 \t5 \t7 \t8 \t9 \t10 \t12\n",
      "0.90 \t1 \t2 \t4 \t5 \t6 \t7 \t8 \t10 \t11\n",
      "0.95 \t1 \t2 \t3 \t4 \t6 \t7 \t8 \t9 \t10\n",
      "1.00 \t1 \t2 \t3 \t4 \t5 \t6 \t7 \t8 \t9\n"
     ]
    }
   ],
   "source": [
    "c = 0.8\n",
    "c100 = c * 100.\n",
    "print \"Number of flight days required to have a %d%% chance that we get \\nn good survey days given likelihood p of clear weather\\n\" % c100\n",
    "\n",
    "print \"p\",\n",
    "for n in range( 1, 10):\n",
    "    print \"\\tn=%d\" % n,\n",
    "print\n",
    "    \n",
    "for p in np.arange(0.05, 1.01, 0.05):\n",
    "    print \"%.2f\" % p,\n",
    "    for n in range( 1, 10):\n",
    "        m = minDays( p, n, c)\n",
    "        print \"\\t\", m,\n",
    "    print"
   ]
  },
  {
   "cell_type": "markdown",
   "metadata": {},
   "source": [
    "### Case 5: 90% confidence"
   ]
  },
  {
   "cell_type": "code",
   "execution_count": 12,
   "metadata": {},
   "outputs": [
    {
     "name": "stdout",
     "output_type": "stream",
     "text": [
      "Number of flight days required to have a 90% chance that we get \n",
      "n good survey days given likelihood p of clear weather\n",
      "\n",
      "p \tn=1 \tn=2 \tn=3 \tn=4 \tn=5 \tn=6 \tn=7 \tn=8 \tn=9\n",
      "0.05 \t46 \t77 \tNone \tNone \tNone \tNone \tNone \tNone \tNone\n",
      "0.10 \t22 \t38 \t51 \t66 \t79 \t91 \tNone \tNone \tNone\n",
      "0.15 \t15 \t26 \t34 \t43 \t52 \t59 \t69 \t77 \t85\n",
      "0.20 \t11 \t19 \t25 \t32 \t39 \t44 \t51 \t56 \t64\n",
      "0.25 \t8 \t15 \t20 \t25 \t30 \t35 \t40 \t45 \t50\n",
      "0.30 \t7 \t12 \t16 \t21 \t25 \t29 \t33 \t37 \t41\n",
      "0.35 \t6 \t10 \t14 \t18 \t21 \t25 \t28 \t32 \t35\n",
      "0.40 \t5 \t9 \t12 \t15 \t18 \t22 \t24 \t27 \t30\n",
      "0.45 \t4 \t8 \t11 \t13 \t16 \t19 \t21 \t24 \t27\n",
      "0.50 \t4 \t7 \t9 \t12 \t14 \t17 \t19 \t21 \t24\n",
      "0.55 \t3 \t6 \t8 \t11 \t13 \t15 \t17 \t19 \t21\n",
      "0.60 \t3 \t5 \t7 \t9 \t11 \t13 \t15 \t17 \t19\n",
      "0.65 \t3 \t5 \t7 \t9 \t10 \t12 \t14 \t16 \t17\n",
      "0.70 \t2 \t4 \t6 \t8 \t9 \t11 \t13 \t14 \t16\n",
      "0.75 \t2 \t4 \t6 \t7 \t9 \t10 \t12 \t13 \t15\n",
      "0.80 \t2 \t3 \t5 \t6 \t8 \t9 \t11 \t12 \t13\n",
      "0.85 \t2 \t3 \t5 \t6 \t7 \t9 \t10 \t11 \t12\n",
      "0.90 \t1 \t3 \t4 \t5 \t7 \t8 \t9 \t10 \t11\n",
      "0.95 \t1 \t2 \t4 \t5 \t6 \t7 \t8 \t9 \t10\n",
      "1.00 \t1 \t2 \t3 \t4 \t5 \t6 \t7 \t8 \t9\n"
     ]
    }
   ],
   "source": [
    "c = 0.9\n",
    "c100 = c * 100.\n",
    "print \"Number of flight days required to have a %d%% chance that we get \\nn good survey days given likelihood p of clear weather\\n\" % c100\n",
    "\n",
    "print \"p\",\n",
    "for n in range( 1, 10):\n",
    "    print \"\\tn=%d\" % n,\n",
    "print\n",
    "    \n",
    "for p in np.arange(0.05, 1.01, 0.05):\n",
    "    print \"%.2f\" % p,\n",
    "    for n in range( 1, 10):\n",
    "        m = minDays( p, n, c)\n",
    "        print \"\\t\", m,\n",
    "    print"
   ]
  },
  {
   "cell_type": "markdown",
   "metadata": {},
   "source": [
    "### Case 6: 99% confidence"
   ]
  },
  {
   "cell_type": "code",
   "execution_count": 13,
   "metadata": {},
   "outputs": [
    {
     "name": "stdout",
     "output_type": "stream",
     "text": [
      "Number of flight days required to have a 99% chance that we get \n",
      "n good survey days given likelihood p of clear weather\n",
      "\n",
      "p \tn=1 \tn=2 \tn=3 \tn=4 \tn=5 \tn=6 \tn=7 \tn=8 \tn=9\n",
      "0.05 \t90 \tNone \tNone \tNone \tNone \tNone \tNone \tNone \tNone\n",
      "0.10 \t44 \t62 \t81 \t96 \tNone \tNone \tNone \tNone \tNone\n",
      "0.15 \t30 \t42 \t52 \t62 \t73 \t83 \t92 \tNone \tNone\n",
      "0.20 \t21 \t31 \t39 \t48 \t55 \t62 \t68 \t76 \t83\n",
      "0.25 \t17 \t24 \t31 \t37 \t42 \t49 \t55 \t61 \t65\n",
      "0.30 \t13 \t19 \t25 \t30 \t35 \t40 \t44 \t49 \t54\n",
      "0.35 \t11 \t16 \t21 \t26 \t30 \t34 \t37 \t41 \t46\n",
      "0.40 \t9 \t14 \t18 \t22 \t26 \t29 \t32 \t35 \t40\n",
      "0.45 \t8 \t12 \t16 \t19 \t22 \t26 \t28 \t31 \t34\n",
      "0.50 \t7 \t10 \t14 \t16 \t20 \t22 \t25 \t27 \t30\n",
      "0.55 \t6 \t9 \t12 \t15 \t17 \t20 \t22 \t24 \t27\n",
      "0.60 \t6 \t8 \t11 \t13 \t15 \t17 \t20 \t22 \t24\n",
      "0.65 \t5 \t8 \t10 \t12 \t14 \t16 \t18 \t20 \t22\n",
      "0.70 \t4 \t6 \t9 \t11 \t13 \t14 \t16 \t18 \t20\n",
      "0.75 \t4 \t6 \t8 \t9 \t11 \t13 \t14 \t16 \t18\n",
      "0.80 \t3 \t5 \t7 \t8 \t10 \t12 \t13 \t14 \t16\n",
      "0.85 \t3 \t5 \t6 \t8 \t9 \t10 \t12 \t13 \t15\n",
      "0.90 \t3 \t4 \t5 \t7 \t8 \t9 \t11 \t12 \t13\n",
      "0.95 \t2 \t3 \t5 \t6 \t7 \t8 \t9 \t11 \t12\n",
      "1.00 \t1 \t2 \t3 \t4 \t5 \t6 \t7 \t8 \t9\n"
     ]
    }
   ],
   "source": [
    "c = 0.99\n",
    "c100 = c * 100.\n",
    "print \"Number of flight days required to have a %d%% chance that we get \\nn good survey days given likelihood p of clear weather\\n\" % c100\n",
    "\n",
    "print \"p\",\n",
    "for n in range( 1, 10):\n",
    "    print \"\\tn=%d\" % n,\n",
    "print\n",
    "    \n",
    "for p in np.arange(0.05, 1.01, 0.05):\n",
    "    print \"%.2f\" % p,\n",
    "    for n in range( 1, 10):\n",
    "        m = minDays( p, n, c)\n",
    "        print \"\\t\", m,\n",
    "    print"
   ]
  }
 ],
 "metadata": {
  "kernelspec": {
   "display_name": "Python 2",
   "language": "python",
   "name": "python2"
  },
  "language_info": {
   "codemirror_mode": {
    "name": "ipython",
    "version": 2
   },
   "file_extension": ".py",
   "mimetype": "text/x-python",
   "name": "python",
   "nbconvert_exporter": "python",
   "pygments_lexer": "ipython2",
   "version": "2.7.13"
  }
 },
 "nbformat": 4,
 "nbformat_minor": 2
}
